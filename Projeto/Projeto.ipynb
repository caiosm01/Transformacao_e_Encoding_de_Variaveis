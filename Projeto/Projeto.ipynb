{
 "cells": [
  {
   "cell_type": "markdown",
   "id": "a7dece31",
   "metadata": {},
   "source": [
    "## Utilizando a regressão linear para definir a técnica de codificação mais eficaz "
   ]
  },
  {
   "cell_type": "code",
   "execution_count": 1,
   "id": "dccf8fcc",
   "metadata": {},
   "outputs": [],
   "source": [
    "import pandas as pd\n",
    "import numpy as np\n",
    "from sklearn import linear_model"
   ]
  },
  {
   "cell_type": "code",
   "execution_count": 2,
   "id": "0ae4b51f",
   "metadata": {},
   "outputs": [
    {
     "name": "stdout",
     "output_type": "stream",
     "text": [
      "Author: Caio Santos Martins\n",
      "\n",
      "sklearn: 0.0\n",
      "pandas : 1.4.4\n",
      "numpy  : 1.21.5\n",
      "\n"
     ]
    }
   ],
   "source": [
    "# Versões dos pacotes usados neste jupyter notebook\n",
    "%reload_ext watermark\n",
    "%watermark -a \"Caio Santos Martins\" --iversions"
   ]
  },
  {
   "cell_type": "markdown",
   "id": "ca1a68f6",
   "metadata": {},
   "source": [
    "### Carregando os dados"
   ]
  },
  {
   "cell_type": "code",
   "execution_count": 3,
   "id": "8b2862d1",
   "metadata": {},
   "outputs": [],
   "source": [
    "#Importação dos dados\n",
    "dados = pd.read_csv('dados/dataset.csv')"
   ]
  },
  {
   "cell_type": "code",
   "execution_count": 4,
   "id": "257ebb88",
   "metadata": {},
   "outputs": [
    {
     "data": {
      "text/plain": [
       "(13, 4)"
      ]
     },
     "execution_count": 4,
     "metadata": {},
     "output_type": "execute_result"
    }
   ],
   "source": [
    "#Verificando as dimensões\n",
    "dados.shape"
   ]
  },
  {
   "cell_type": "code",
   "execution_count": 5,
   "id": "37dbf185",
   "metadata": {},
   "outputs": [
    {
     "data": {
      "text/html": [
       "<div>\n",
       "<style scoped>\n",
       "    .dataframe tbody tr th:only-of-type {\n",
       "        vertical-align: middle;\n",
       "    }\n",
       "\n",
       "    .dataframe tbody tr th {\n",
       "        vertical-align: top;\n",
       "    }\n",
       "\n",
       "    .dataframe thead th {\n",
       "        text-align: right;\n",
       "    }\n",
       "</style>\n",
       "<table border=\"1\" class=\"dataframe\">\n",
       "  <thead>\n",
       "    <tr style=\"text-align: right;\">\n",
       "      <th></th>\n",
       "      <th>Modelo</th>\n",
       "      <th>Kilometragem</th>\n",
       "      <th>Preco_Venda</th>\n",
       "      <th>Idade_Veiculo</th>\n",
       "    </tr>\n",
       "  </thead>\n",
       "  <tbody>\n",
       "    <tr>\n",
       "      <th>0</th>\n",
       "      <td>Jaguar F-Type R</td>\n",
       "      <td>69000</td>\n",
       "      <td>18000</td>\n",
       "      <td>6</td>\n",
       "    </tr>\n",
       "    <tr>\n",
       "      <th>1</th>\n",
       "      <td>Jaguar F-Type R</td>\n",
       "      <td>35000</td>\n",
       "      <td>34000</td>\n",
       "      <td>3</td>\n",
       "    </tr>\n",
       "    <tr>\n",
       "      <th>2</th>\n",
       "      <td>Jaguar F-Type R</td>\n",
       "      <td>57000</td>\n",
       "      <td>26100</td>\n",
       "      <td>5</td>\n",
       "    </tr>\n",
       "    <tr>\n",
       "      <th>3</th>\n",
       "      <td>Jaguar F-Type R</td>\n",
       "      <td>22500</td>\n",
       "      <td>40000</td>\n",
       "      <td>2</td>\n",
       "    </tr>\n",
       "    <tr>\n",
       "      <th>4</th>\n",
       "      <td>Jaguar F-Type R</td>\n",
       "      <td>46000</td>\n",
       "      <td>31500</td>\n",
       "      <td>4</td>\n",
       "    </tr>\n",
       "    <tr>\n",
       "      <th>5</th>\n",
       "      <td>Mustang Mach 1</td>\n",
       "      <td>59000</td>\n",
       "      <td>29400</td>\n",
       "      <td>5</td>\n",
       "    </tr>\n",
       "    <tr>\n",
       "      <th>6</th>\n",
       "      <td>Mustang Mach 1</td>\n",
       "      <td>52000</td>\n",
       "      <td>32000</td>\n",
       "      <td>5</td>\n",
       "    </tr>\n",
       "    <tr>\n",
       "      <th>7</th>\n",
       "      <td>Mustang Mach 1</td>\n",
       "      <td>72000</td>\n",
       "      <td>19300</td>\n",
       "      <td>6</td>\n",
       "    </tr>\n",
       "    <tr>\n",
       "      <th>8</th>\n",
       "      <td>Mustang Mach 1</td>\n",
       "      <td>91000</td>\n",
       "      <td>12000</td>\n",
       "      <td>8</td>\n",
       "    </tr>\n",
       "    <tr>\n",
       "      <th>9</th>\n",
       "      <td>Mercedez Benz AMG GLE 53</td>\n",
       "      <td>67000</td>\n",
       "      <td>22000</td>\n",
       "      <td>6</td>\n",
       "    </tr>\n",
       "    <tr>\n",
       "      <th>10</th>\n",
       "      <td>Mercedez Benz AMG GLE 53</td>\n",
       "      <td>83000</td>\n",
       "      <td>20000</td>\n",
       "      <td>7</td>\n",
       "    </tr>\n",
       "    <tr>\n",
       "      <th>11</th>\n",
       "      <td>Mercedez Benz AMG GLE 53</td>\n",
       "      <td>79000</td>\n",
       "      <td>21000</td>\n",
       "      <td>7</td>\n",
       "    </tr>\n",
       "    <tr>\n",
       "      <th>12</th>\n",
       "      <td>Mercedez Benz AMG GLE 53</td>\n",
       "      <td>59000</td>\n",
       "      <td>33000</td>\n",
       "      <td>5</td>\n",
       "    </tr>\n",
       "  </tbody>\n",
       "</table>\n",
       "</div>"
      ],
      "text/plain": [
       "                      Modelo  Kilometragem  Preco_Venda  Idade_Veiculo\n",
       "0            Jaguar F-Type R         69000        18000              6\n",
       "1            Jaguar F-Type R         35000        34000              3\n",
       "2            Jaguar F-Type R         57000        26100              5\n",
       "3            Jaguar F-Type R         22500        40000              2\n",
       "4            Jaguar F-Type R         46000        31500              4\n",
       "5             Mustang Mach 1         59000        29400              5\n",
       "6             Mustang Mach 1         52000        32000              5\n",
       "7             Mustang Mach 1         72000        19300              6\n",
       "8             Mustang Mach 1         91000        12000              8\n",
       "9   Mercedez Benz AMG GLE 53         67000        22000              6\n",
       "10  Mercedez Benz AMG GLE 53         83000        20000              7\n",
       "11  Mercedez Benz AMG GLE 53         79000        21000              7\n",
       "12  Mercedez Benz AMG GLE 53         59000        33000              5"
      ]
     },
     "execution_count": 5,
     "metadata": {},
     "output_type": "execute_result"
    }
   ],
   "source": [
    "dados"
   ]
  },
  {
   "cell_type": "markdown",
   "id": "a9fd04d2",
   "metadata": {},
   "source": [
    "## Aplicando One-Hot-Encoding\n",
    "\n",
    "https://scikit-learn.org/stable/modules/generated/sklearn.preprocessing.OneHotEncoder.html\n",
    "\n",
    "https://scikit-learn.org/stable/modules/generated/sklearn.compose.ColumnTransformer.html"
   ]
  },
  {
   "cell_type": "code",
   "execution_count": 6,
   "id": "3d7fdc34",
   "metadata": {},
   "outputs": [],
   "source": [
    "from sklearn.preprocessing import OneHotEncoder\n",
    "from sklearn.compose import ColumnTransformer"
   ]
  },
  {
   "cell_type": "code",
   "execution_count": 17,
   "id": "c1a77675",
   "metadata": {},
   "outputs": [],
   "source": [
    "#Criação do objeto de codificação\n",
    "OHEncoder = ColumnTransformer([('Modelo', OneHotEncoder(), [0])], remainder = 'passthrough')"
   ]
  },
  {
   "cell_type": "code",
   "execution_count": 18,
   "id": "4e677717",
   "metadata": {},
   "outputs": [
    {
     "data": {
      "text/plain": [
       "ColumnTransformer(remainder='passthrough',\n",
       "                  transformers=[('Modelo', OneHotEncoder(), [0])])"
      ]
     },
     "execution_count": 18,
     "metadata": {},
     "output_type": "execute_result"
    }
   ],
   "source": [
    "OHEncoder"
   ]
  },
  {
   "cell_type": "code",
   "execution_count": 19,
   "id": "fa919ea1",
   "metadata": {},
   "outputs": [],
   "source": [
    "#Cópia da fonte de dados original\n",
    "df_car = dados"
   ]
  },
  {
   "cell_type": "code",
   "execution_count": 20,
   "id": "44b885c1",
   "metadata": {},
   "outputs": [
    {
     "data": {
      "text/html": [
       "<div>\n",
       "<style scoped>\n",
       "    .dataframe tbody tr th:only-of-type {\n",
       "        vertical-align: middle;\n",
       "    }\n",
       "\n",
       "    .dataframe tbody tr th {\n",
       "        vertical-align: top;\n",
       "    }\n",
       "\n",
       "    .dataframe thead th {\n",
       "        text-align: right;\n",
       "    }\n",
       "</style>\n",
       "<table border=\"1\" class=\"dataframe\">\n",
       "  <thead>\n",
       "    <tr style=\"text-align: right;\">\n",
       "      <th></th>\n",
       "      <th>Modelo</th>\n",
       "      <th>Kilometragem</th>\n",
       "      <th>Preco_Venda</th>\n",
       "      <th>Idade_Veiculo</th>\n",
       "    </tr>\n",
       "  </thead>\n",
       "  <tbody>\n",
       "    <tr>\n",
       "      <th>0</th>\n",
       "      <td>Jaguar F-Type R</td>\n",
       "      <td>69000</td>\n",
       "      <td>18000</td>\n",
       "      <td>6</td>\n",
       "    </tr>\n",
       "    <tr>\n",
       "      <th>1</th>\n",
       "      <td>Jaguar F-Type R</td>\n",
       "      <td>35000</td>\n",
       "      <td>34000</td>\n",
       "      <td>3</td>\n",
       "    </tr>\n",
       "    <tr>\n",
       "      <th>2</th>\n",
       "      <td>Jaguar F-Type R</td>\n",
       "      <td>57000</td>\n",
       "      <td>26100</td>\n",
       "      <td>5</td>\n",
       "    </tr>\n",
       "    <tr>\n",
       "      <th>3</th>\n",
       "      <td>Jaguar F-Type R</td>\n",
       "      <td>22500</td>\n",
       "      <td>40000</td>\n",
       "      <td>2</td>\n",
       "    </tr>\n",
       "    <tr>\n",
       "      <th>4</th>\n",
       "      <td>Jaguar F-Type R</td>\n",
       "      <td>46000</td>\n",
       "      <td>31500</td>\n",
       "      <td>4</td>\n",
       "    </tr>\n",
       "    <tr>\n",
       "      <th>5</th>\n",
       "      <td>Mustang Mach 1</td>\n",
       "      <td>59000</td>\n",
       "      <td>29400</td>\n",
       "      <td>5</td>\n",
       "    </tr>\n",
       "    <tr>\n",
       "      <th>6</th>\n",
       "      <td>Mustang Mach 1</td>\n",
       "      <td>52000</td>\n",
       "      <td>32000</td>\n",
       "      <td>5</td>\n",
       "    </tr>\n",
       "    <tr>\n",
       "      <th>7</th>\n",
       "      <td>Mustang Mach 1</td>\n",
       "      <td>72000</td>\n",
       "      <td>19300</td>\n",
       "      <td>6</td>\n",
       "    </tr>\n",
       "    <tr>\n",
       "      <th>8</th>\n",
       "      <td>Mustang Mach 1</td>\n",
       "      <td>91000</td>\n",
       "      <td>12000</td>\n",
       "      <td>8</td>\n",
       "    </tr>\n",
       "    <tr>\n",
       "      <th>9</th>\n",
       "      <td>Mercedez Benz AMG GLE 53</td>\n",
       "      <td>67000</td>\n",
       "      <td>22000</td>\n",
       "      <td>6</td>\n",
       "    </tr>\n",
       "    <tr>\n",
       "      <th>10</th>\n",
       "      <td>Mercedez Benz AMG GLE 53</td>\n",
       "      <td>83000</td>\n",
       "      <td>20000</td>\n",
       "      <td>7</td>\n",
       "    </tr>\n",
       "    <tr>\n",
       "      <th>11</th>\n",
       "      <td>Mercedez Benz AMG GLE 53</td>\n",
       "      <td>79000</td>\n",
       "      <td>21000</td>\n",
       "      <td>7</td>\n",
       "    </tr>\n",
       "    <tr>\n",
       "      <th>12</th>\n",
       "      <td>Mercedez Benz AMG GLE 53</td>\n",
       "      <td>59000</td>\n",
       "      <td>33000</td>\n",
       "      <td>5</td>\n",
       "    </tr>\n",
       "  </tbody>\n",
       "</table>\n",
       "</div>"
      ],
      "text/plain": [
       "                      Modelo  Kilometragem  Preco_Venda  Idade_Veiculo\n",
       "0            Jaguar F-Type R         69000        18000              6\n",
       "1            Jaguar F-Type R         35000        34000              3\n",
       "2            Jaguar F-Type R         57000        26100              5\n",
       "3            Jaguar F-Type R         22500        40000              2\n",
       "4            Jaguar F-Type R         46000        31500              4\n",
       "5             Mustang Mach 1         59000        29400              5\n",
       "6             Mustang Mach 1         52000        32000              5\n",
       "7             Mustang Mach 1         72000        19300              6\n",
       "8             Mustang Mach 1         91000        12000              8\n",
       "9   Mercedez Benz AMG GLE 53         67000        22000              6\n",
       "10  Mercedez Benz AMG GLE 53         83000        20000              7\n",
       "11  Mercedez Benz AMG GLE 53         79000        21000              7\n",
       "12  Mercedez Benz AMG GLE 53         59000        33000              5"
      ]
     },
     "execution_count": 20,
     "metadata": {},
     "output_type": "execute_result"
    }
   ],
   "source": [
    "df_car"
   ]
  },
  {
   "cell_type": "code",
   "execution_count": 21,
   "id": "91b2e026",
   "metadata": {},
   "outputs": [
    {
     "data": {
      "text/html": [
       "<div>\n",
       "<style scoped>\n",
       "    .dataframe tbody tr th:only-of-type {\n",
       "        vertical-align: middle;\n",
       "    }\n",
       "\n",
       "    .dataframe tbody tr th {\n",
       "        vertical-align: top;\n",
       "    }\n",
       "\n",
       "    .dataframe thead th {\n",
       "        text-align: right;\n",
       "    }\n",
       "</style>\n",
       "<table border=\"1\" class=\"dataframe\">\n",
       "  <thead>\n",
       "    <tr style=\"text-align: right;\">\n",
       "      <th></th>\n",
       "      <th>Modelo</th>\n",
       "      <th>Kilometragem</th>\n",
       "      <th>Idade_Veiculo</th>\n",
       "    </tr>\n",
       "  </thead>\n",
       "  <tbody>\n",
       "    <tr>\n",
       "      <th>0</th>\n",
       "      <td>Jaguar F-Type R</td>\n",
       "      <td>69000</td>\n",
       "      <td>6</td>\n",
       "    </tr>\n",
       "    <tr>\n",
       "      <th>1</th>\n",
       "      <td>Jaguar F-Type R</td>\n",
       "      <td>35000</td>\n",
       "      <td>3</td>\n",
       "    </tr>\n",
       "    <tr>\n",
       "      <th>2</th>\n",
       "      <td>Jaguar F-Type R</td>\n",
       "      <td>57000</td>\n",
       "      <td>5</td>\n",
       "    </tr>\n",
       "    <tr>\n",
       "      <th>3</th>\n",
       "      <td>Jaguar F-Type R</td>\n",
       "      <td>22500</td>\n",
       "      <td>2</td>\n",
       "    </tr>\n",
       "    <tr>\n",
       "      <th>4</th>\n",
       "      <td>Jaguar F-Type R</td>\n",
       "      <td>46000</td>\n",
       "      <td>4</td>\n",
       "    </tr>\n",
       "    <tr>\n",
       "      <th>5</th>\n",
       "      <td>Mustang Mach 1</td>\n",
       "      <td>59000</td>\n",
       "      <td>5</td>\n",
       "    </tr>\n",
       "    <tr>\n",
       "      <th>6</th>\n",
       "      <td>Mustang Mach 1</td>\n",
       "      <td>52000</td>\n",
       "      <td>5</td>\n",
       "    </tr>\n",
       "    <tr>\n",
       "      <th>7</th>\n",
       "      <td>Mustang Mach 1</td>\n",
       "      <td>72000</td>\n",
       "      <td>6</td>\n",
       "    </tr>\n",
       "    <tr>\n",
       "      <th>8</th>\n",
       "      <td>Mustang Mach 1</td>\n",
       "      <td>91000</td>\n",
       "      <td>8</td>\n",
       "    </tr>\n",
       "    <tr>\n",
       "      <th>9</th>\n",
       "      <td>Mercedez Benz AMG GLE 53</td>\n",
       "      <td>67000</td>\n",
       "      <td>6</td>\n",
       "    </tr>\n",
       "    <tr>\n",
       "      <th>10</th>\n",
       "      <td>Mercedez Benz AMG GLE 53</td>\n",
       "      <td>83000</td>\n",
       "      <td>7</td>\n",
       "    </tr>\n",
       "    <tr>\n",
       "      <th>11</th>\n",
       "      <td>Mercedez Benz AMG GLE 53</td>\n",
       "      <td>79000</td>\n",
       "      <td>7</td>\n",
       "    </tr>\n",
       "    <tr>\n",
       "      <th>12</th>\n",
       "      <td>Mercedez Benz AMG GLE 53</td>\n",
       "      <td>59000</td>\n",
       "      <td>5</td>\n",
       "    </tr>\n",
       "  </tbody>\n",
       "</table>\n",
       "</div>"
      ],
      "text/plain": [
       "                      Modelo  Kilometragem  Idade_Veiculo\n",
       "0            Jaguar F-Type R         69000              6\n",
       "1            Jaguar F-Type R         35000              3\n",
       "2            Jaguar F-Type R         57000              5\n",
       "3            Jaguar F-Type R         22500              2\n",
       "4            Jaguar F-Type R         46000              4\n",
       "5             Mustang Mach 1         59000              5\n",
       "6             Mustang Mach 1         52000              5\n",
       "7             Mustang Mach 1         72000              6\n",
       "8             Mustang Mach 1         91000              8\n",
       "9   Mercedez Benz AMG GLE 53         67000              6\n",
       "10  Mercedez Benz AMG GLE 53         83000              7\n",
       "11  Mercedez Benz AMG GLE 53         79000              7\n",
       "12  Mercedez Benz AMG GLE 53         59000              5"
      ]
     },
     "execution_count": 21,
     "metadata": {},
     "output_type": "execute_result"
    }
   ],
   "source": [
    "x = df_car.drop('Preco_Venda', axis=1)\n",
    "x"
   ]
  },
  {
   "cell_type": "code",
   "execution_count": 22,
   "id": "a6795337",
   "metadata": {},
   "outputs": [
    {
     "data": {
      "text/plain": [
       "0     18000\n",
       "1     34000\n",
       "2     26100\n",
       "3     40000\n",
       "4     31500\n",
       "5     29400\n",
       "6     32000\n",
       "7     19300\n",
       "8     12000\n",
       "9     22000\n",
       "10    20000\n",
       "11    21000\n",
       "12    33000\n",
       "Name: Preco_Venda, dtype: int64"
      ]
     },
     "execution_count": 22,
     "metadata": {},
     "output_type": "execute_result"
    }
   ],
   "source": [
    "y = df_car['Preco_Venda']\n",
    "y"
   ]
  },
  {
   "cell_type": "code",
   "execution_count": 23,
   "id": "5597f05c",
   "metadata": {},
   "outputs": [
    {
     "data": {
      "text/plain": [
       "array([[1.00e+00, 0.00e+00, 0.00e+00, 6.90e+04, 6.00e+00],\n",
       "       [1.00e+00, 0.00e+00, 0.00e+00, 3.50e+04, 3.00e+00],\n",
       "       [1.00e+00, 0.00e+00, 0.00e+00, 5.70e+04, 5.00e+00],\n",
       "       [1.00e+00, 0.00e+00, 0.00e+00, 2.25e+04, 2.00e+00],\n",
       "       [1.00e+00, 0.00e+00, 0.00e+00, 4.60e+04, 4.00e+00],\n",
       "       [0.00e+00, 0.00e+00, 1.00e+00, 5.90e+04, 5.00e+00],\n",
       "       [0.00e+00, 0.00e+00, 1.00e+00, 5.20e+04, 5.00e+00],\n",
       "       [0.00e+00, 0.00e+00, 1.00e+00, 7.20e+04, 6.00e+00],\n",
       "       [0.00e+00, 0.00e+00, 1.00e+00, 9.10e+04, 8.00e+00],\n",
       "       [0.00e+00, 1.00e+00, 0.00e+00, 6.70e+04, 6.00e+00],\n",
       "       [0.00e+00, 1.00e+00, 0.00e+00, 8.30e+04, 7.00e+00],\n",
       "       [0.00e+00, 1.00e+00, 0.00e+00, 7.90e+04, 7.00e+00],\n",
       "       [0.00e+00, 1.00e+00, 0.00e+00, 5.90e+04, 5.00e+00]])"
      ]
     },
     "execution_count": 23,
     "metadata": {},
     "output_type": "execute_result"
    }
   ],
   "source": [
    "#Padronização dos dados\n",
    "X = OHEncoder.fit_transform(x)\n",
    "X"
   ]
  },
  {
   "cell_type": "code",
   "execution_count": 25,
   "id": "37505314",
   "metadata": {},
   "outputs": [],
   "source": [
    "#Criação do modelo de treinamento\n",
    "modelo_v1 = linear_model.LinearRegression()"
   ]
  },
  {
   "cell_type": "code",
   "execution_count": 27,
   "id": "39f1c994",
   "metadata": {},
   "outputs": [
    {
     "data": {
      "text/plain": [
       "LinearRegression()"
      ]
     },
     "execution_count": 27,
     "metadata": {},
     "output_type": "execute_result"
    }
   ],
   "source": [
    "#Treinamento com os dados\n",
    "modelo_v1.fit(X, y)"
   ]
  },
  {
   "cell_type": "code",
   "execution_count": 29,
   "id": "93a0f3b9",
   "metadata": {},
   "outputs": [
    {
     "data": {
      "text/plain": [
       "0.9417050937281082"
      ]
     },
     "execution_count": 29,
     "metadata": {},
     "output_type": "execute_result"
    }
   ],
   "source": [
    "# Calcula a acurácia\n",
    "modelo_v1.score(X,y)"
   ]
  },
  {
   "cell_type": "markdown",
   "id": "f960bfe5",
   "metadata": {},
   "source": [
    "## Aplicando Label Encoding"
   ]
  },
  {
   "cell_type": "code",
   "execution_count": 30,
   "id": "c43048a2",
   "metadata": {},
   "outputs": [],
   "source": [
    "from sklearn.preprocessing import LabelEncoder"
   ]
  },
  {
   "cell_type": "code",
   "execution_count": 31,
   "id": "dcaa3630",
   "metadata": {},
   "outputs": [],
   "source": [
    "# Cópia do dataframe original\n",
    "df_car2 = dados"
   ]
  },
  {
   "cell_type": "code",
   "execution_count": 43,
   "id": "24651bf0",
   "metadata": {},
   "outputs": [],
   "source": [
    "# Cria o objeto encoder\n",
    "le = LabelEncoder()"
   ]
  },
  {
   "cell_type": "code",
   "execution_count": 44,
   "id": "b6b02a82",
   "metadata": {},
   "outputs": [
    {
     "data": {
      "text/plain": [
       "LabelEncoder()"
      ]
     },
     "execution_count": 44,
     "metadata": {},
     "output_type": "execute_result"
    }
   ],
   "source": [
    "le"
   ]
  },
  {
   "cell_type": "code",
   "execution_count": 46,
   "id": "41f7fb3c",
   "metadata": {},
   "outputs": [],
   "source": [
    "df_car2['Modelo'] = le.fit_transform(df_car['Modelo'])"
   ]
  },
  {
   "cell_type": "code",
   "execution_count": 47,
   "id": "e92d513f",
   "metadata": {},
   "outputs": [
    {
     "data": {
      "text/html": [
       "<div>\n",
       "<style scoped>\n",
       "    .dataframe tbody tr th:only-of-type {\n",
       "        vertical-align: middle;\n",
       "    }\n",
       "\n",
       "    .dataframe tbody tr th {\n",
       "        vertical-align: top;\n",
       "    }\n",
       "\n",
       "    .dataframe thead th {\n",
       "        text-align: right;\n",
       "    }\n",
       "</style>\n",
       "<table border=\"1\" class=\"dataframe\">\n",
       "  <thead>\n",
       "    <tr style=\"text-align: right;\">\n",
       "      <th></th>\n",
       "      <th>Modelo</th>\n",
       "      <th>Kilometragem</th>\n",
       "      <th>Preco_Venda</th>\n",
       "      <th>Idade_Veiculo</th>\n",
       "    </tr>\n",
       "  </thead>\n",
       "  <tbody>\n",
       "    <tr>\n",
       "      <th>0</th>\n",
       "      <td>0</td>\n",
       "      <td>69000</td>\n",
       "      <td>18000</td>\n",
       "      <td>6</td>\n",
       "    </tr>\n",
       "    <tr>\n",
       "      <th>1</th>\n",
       "      <td>0</td>\n",
       "      <td>35000</td>\n",
       "      <td>34000</td>\n",
       "      <td>3</td>\n",
       "    </tr>\n",
       "    <tr>\n",
       "      <th>2</th>\n",
       "      <td>0</td>\n",
       "      <td>57000</td>\n",
       "      <td>26100</td>\n",
       "      <td>5</td>\n",
       "    </tr>\n",
       "    <tr>\n",
       "      <th>3</th>\n",
       "      <td>0</td>\n",
       "      <td>22500</td>\n",
       "      <td>40000</td>\n",
       "      <td>2</td>\n",
       "    </tr>\n",
       "    <tr>\n",
       "      <th>4</th>\n",
       "      <td>0</td>\n",
       "      <td>46000</td>\n",
       "      <td>31500</td>\n",
       "      <td>4</td>\n",
       "    </tr>\n",
       "    <tr>\n",
       "      <th>5</th>\n",
       "      <td>2</td>\n",
       "      <td>59000</td>\n",
       "      <td>29400</td>\n",
       "      <td>5</td>\n",
       "    </tr>\n",
       "    <tr>\n",
       "      <th>6</th>\n",
       "      <td>2</td>\n",
       "      <td>52000</td>\n",
       "      <td>32000</td>\n",
       "      <td>5</td>\n",
       "    </tr>\n",
       "    <tr>\n",
       "      <th>7</th>\n",
       "      <td>2</td>\n",
       "      <td>72000</td>\n",
       "      <td>19300</td>\n",
       "      <td>6</td>\n",
       "    </tr>\n",
       "    <tr>\n",
       "      <th>8</th>\n",
       "      <td>2</td>\n",
       "      <td>91000</td>\n",
       "      <td>12000</td>\n",
       "      <td>8</td>\n",
       "    </tr>\n",
       "    <tr>\n",
       "      <th>9</th>\n",
       "      <td>1</td>\n",
       "      <td>67000</td>\n",
       "      <td>22000</td>\n",
       "      <td>6</td>\n",
       "    </tr>\n",
       "    <tr>\n",
       "      <th>10</th>\n",
       "      <td>1</td>\n",
       "      <td>83000</td>\n",
       "      <td>20000</td>\n",
       "      <td>7</td>\n",
       "    </tr>\n",
       "    <tr>\n",
       "      <th>11</th>\n",
       "      <td>1</td>\n",
       "      <td>79000</td>\n",
       "      <td>21000</td>\n",
       "      <td>7</td>\n",
       "    </tr>\n",
       "    <tr>\n",
       "      <th>12</th>\n",
       "      <td>1</td>\n",
       "      <td>59000</td>\n",
       "      <td>33000</td>\n",
       "      <td>5</td>\n",
       "    </tr>\n",
       "  </tbody>\n",
       "</table>\n",
       "</div>"
      ],
      "text/plain": [
       "    Modelo  Kilometragem  Preco_Venda  Idade_Veiculo\n",
       "0        0         69000        18000              6\n",
       "1        0         35000        34000              3\n",
       "2        0         57000        26100              5\n",
       "3        0         22500        40000              2\n",
       "4        0         46000        31500              4\n",
       "5        2         59000        29400              5\n",
       "6        2         52000        32000              5\n",
       "7        2         72000        19300              6\n",
       "8        2         91000        12000              8\n",
       "9        1         67000        22000              6\n",
       "10       1         83000        20000              7\n",
       "11       1         79000        21000              7\n",
       "12       1         59000        33000              5"
      ]
     },
     "execution_count": 47,
     "metadata": {},
     "output_type": "execute_result"
    }
   ],
   "source": [
    "df_car2"
   ]
  },
  {
   "cell_type": "code",
   "execution_count": 49,
   "id": "289c2568",
   "metadata": {},
   "outputs": [
    {
     "data": {
      "text/plain": [
       "array([[    0, 69000,     6],\n",
       "       [    0, 35000,     3],\n",
       "       [    0, 57000,     5],\n",
       "       [    0, 22500,     2],\n",
       "       [    0, 46000,     4],\n",
       "       [    2, 59000,     5],\n",
       "       [    2, 52000,     5],\n",
       "       [    2, 72000,     6],\n",
       "       [    2, 91000,     8],\n",
       "       [    1, 67000,     6],\n",
       "       [    1, 83000,     7],\n",
       "       [    1, 79000,     7],\n",
       "       [    1, 59000,     5]], dtype=int64)"
      ]
     },
     "execution_count": 49,
     "metadata": {},
     "output_type": "execute_result"
    }
   ],
   "source": [
    "# Define os valores de X\n",
    "x = df_car2[['Modelo', 'Kilometragem', 'Idade_Veiculo']].values\n",
    "x"
   ]
  },
  {
   "cell_type": "code",
   "execution_count": 50,
   "id": "a8b527a4",
   "metadata": {},
   "outputs": [
    {
     "data": {
      "text/plain": [
       "0     18000\n",
       "1     34000\n",
       "2     26100\n",
       "3     40000\n",
       "4     31500\n",
       "5     29400\n",
       "6     32000\n",
       "7     19300\n",
       "8     12000\n",
       "9     22000\n",
       "10    20000\n",
       "11    21000\n",
       "12    33000\n",
       "Name: Preco_Venda, dtype: int64"
      ]
     },
     "execution_count": 50,
     "metadata": {},
     "output_type": "execute_result"
    }
   ],
   "source": [
    "y = df_car2['Preco_Venda']\n",
    "y"
   ]
  },
  {
   "cell_type": "code",
   "execution_count": 51,
   "id": "e804c230",
   "metadata": {},
   "outputs": [],
   "source": [
    "modelo_v2 = linear_model.LinearRegression()"
   ]
  },
  {
   "cell_type": "code",
   "execution_count": 52,
   "id": "b706b7e2",
   "metadata": {},
   "outputs": [
    {
     "data": {
      "text/plain": [
       "LinearRegression()"
      ]
     },
     "execution_count": 52,
     "metadata": {},
     "output_type": "execute_result"
    }
   ],
   "source": [
    "# Treina o modelo\n",
    "modelo_v2.fit(x,y)"
   ]
  },
  {
   "cell_type": "code",
   "execution_count": 53,
   "id": "2347d811",
   "metadata": {},
   "outputs": [
    {
     "data": {
      "text/plain": [
       "0.8803425650559955"
      ]
     },
     "execution_count": 53,
     "metadata": {},
     "output_type": "execute_result"
    }
   ],
   "source": [
    "# Calcula a acurácia\n",
    "modelo_v2.score(x,y)"
   ]
  }
 ],
 "metadata": {
  "kernelspec": {
   "display_name": "Python 3 (ipykernel)",
   "language": "python",
   "name": "python3"
  },
  "language_info": {
   "codemirror_mode": {
    "name": "ipython",
    "version": 3
   },
   "file_extension": ".py",
   "mimetype": "text/x-python",
   "name": "python",
   "nbconvert_exporter": "python",
   "pygments_lexer": "ipython3",
   "version": "3.9.13"
  }
 },
 "nbformat": 4,
 "nbformat_minor": 5
}
